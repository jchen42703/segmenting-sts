{
  "nbformat": 4,
  "nbformat_minor": 0,
  "metadata": {
    "colab": {
      "name": "PET Segmentation [Refactoring].ipynb",
      "version": "0.3.2",
      "provenance": [],
      "collapsed_sections": []
    },
    "kernelspec": {
      "name": "python3",
      "display_name": "Python 3"
    },
    "accelerator": "GPU"
  },
  "cells": [
    {
      "metadata": {
        "id": "z1TL55fwYrYv",
        "colab_type": "text"
      },
      "cell_type": "markdown",
      "source": [
        "agenda <br>\n",
        "* with losses\n",
        "* gif generator"
      ]
    },
    {
      "metadata": {
        "id": "Vw9FJAd4ArGG",
        "colab_type": "code",
        "colab": {
          "base_uri": "https://localhost:8080/",
          "height": 323
        },
        "outputId": "77b62c8f-f01a-414a-cb07-734002ebd105"
      },
      "cell_type": "code",
      "source": [
        "!pip install PyDrive"
      ],
      "execution_count": 1,
      "outputs": [
        {
          "output_type": "stream",
          "text": [
            "Collecting PyDrive\n",
            "\u001b[?25l  Downloading https://files.pythonhosted.org/packages/52/e0/0e64788e5dd58ce2d6934549676243dc69d982f198524be9b99e9c2a4fd5/PyDrive-1.3.1.tar.gz (987kB)\n",
            "\u001b[K    100% |████████████████████████████████| 993kB 5.4MB/s \n",
            "\u001b[?25hRequirement already satisfied: google-api-python-client>=1.2 in /usr/local/lib/python3.6/dist-packages (from PyDrive) (1.6.7)\n",
            "Requirement already satisfied: oauth2client>=4.0.0 in /usr/local/lib/python3.6/dist-packages (from PyDrive) (4.1.2)\n",
            "Requirement already satisfied: PyYAML>=3.0 in /usr/local/lib/python3.6/dist-packages (from PyDrive) (3.13)\n",
            "Requirement already satisfied: six<2dev,>=1.6.1 in /usr/local/lib/python3.6/dist-packages (from google-api-python-client>=1.2->PyDrive) (1.11.0)\n",
            "Requirement already satisfied: httplib2<1dev,>=0.9.2 in /usr/local/lib/python3.6/dist-packages (from google-api-python-client>=1.2->PyDrive) (0.11.3)\n",
            "Requirement already satisfied: uritemplate<4dev,>=3.0.0 in /usr/local/lib/python3.6/dist-packages (from google-api-python-client>=1.2->PyDrive) (3.0.0)\n",
            "Requirement already satisfied: rsa>=3.1.4 in /usr/local/lib/python3.6/dist-packages (from oauth2client>=4.0.0->PyDrive) (3.4.2)\n",
            "Requirement already satisfied: pyasn1-modules>=0.0.5 in /usr/local/lib/python3.6/dist-packages (from oauth2client>=4.0.0->PyDrive) (0.2.2)\n",
            "Requirement already satisfied: pyasn1>=0.1.7 in /usr/local/lib/python3.6/dist-packages (from oauth2client>=4.0.0->PyDrive) (0.4.3)\n",
            "Building wheels for collected packages: PyDrive\n",
            "  Running setup.py bdist_wheel for PyDrive ... \u001b[?25l-\b \b\\\b \bdone\n",
            "\u001b[?25h  Stored in directory: /content/.cache/pip/wheels/fa/d2/9a/d3b6b506c2da98289e5d417215ce34b696db856643bad779f4\n",
            "Successfully built PyDrive\n",
            "Installing collected packages: PyDrive\n",
            "Successfully installed PyDrive-1.3.1\n"
          ],
          "name": "stdout"
        }
      ]
    },
    {
      "metadata": {
        "id": "BMgzyyBAA5Fn",
        "colab_type": "code",
        "colab": {}
      },
      "cell_type": "code",
      "source": [
        "import os\n",
        "from pydrive.auth import GoogleAuth\n",
        "from pydrive.drive import GoogleDrive\n",
        "from google.colab import auth\n",
        "from oauth2client.client import GoogleCredentials"
      ],
      "execution_count": 0,
      "outputs": []
    },
    {
      "metadata": {
        "id": "zp0-UKmZA5J1",
        "colab_type": "code",
        "colab": {}
      },
      "cell_type": "code",
      "source": [
        "auth.authenticate_user()\n",
        "gauth = GoogleAuth()\n",
        "gauth.credentials = GoogleCredentials.get_application_default()\n",
        "drive = GoogleDrive(gauth)"
      ],
      "execution_count": 0,
      "outputs": []
    },
    {
      "metadata": {
        "id": "0Hw5snadA5NW",
        "colab_type": "code",
        "colab": {}
      },
      "cell_type": "code",
      "source": [
        "#ct data\n",
        "\n",
        "# download = drive.CreateFile({'id': '1zQOnX-0aF6FrnJdm5h1sb-rxbAz6vI3C'})\n",
        "# download.GetContentFile('ct_train.npy')\n",
        "# download = drive.CreateFile({'id': '13uvHwfdv7Milsoxrh5RuQiXdx9CHZSe5'})\n",
        "# download.GetContentFile('y_patches_train.npy')\n",
        "# download = drive.CreateFile({'id': '15y89D99Rj4UEx_PXY7_EbhQJXmrzxLZn'})\n",
        "# download.GetContentFile('ct_test.npy')\n",
        "# download = drive.CreateFile({'id': '14viNB9pQ0oujFEuCLG8nfbzIuUaiOW1P'})\n",
        "# download.GetContentFile('y_patches_test.npy')\n",
        "# download = drive.CreateFile({'id': '1aYsDxEwrbakX-HoAtM86UmcvaY69hZIs'})\n",
        "# download.GetContentFile('ct_train_pos.npy')\n",
        "# download = drive.CreateFile({'id': '1zRXvc4SYB7a9-hQ-GxYQKZZiKkGQo3-H'})\n",
        "# download.GetContentFile('y_train_pos.npy')\n",
        "\n"
      ],
      "execution_count": 0,
      "outputs": []
    },
    {
      "metadata": {
        "id": "qdLJDEOnDkkK",
        "colab_type": "code",
        "colab": {}
      },
      "cell_type": "code",
      "source": [
        "#pet data [not sure if regular or mixed]\n",
        "download = drive.CreateFile({'id': '1vqB-aiGem_Qombpp6f43JmZgSzBJEWlP'})\n",
        "download.GetContentFile('pet_train.npy')\n",
        "download = drive.CreateFile({'id': '1NeAPPQKypZZtRX_uYOByTpXDkPLvfI2e'})\n",
        "download.GetContentFile('y_patches_train.npy')\n",
        "download = drive.CreateFile({'id': '19CGODswlrI4uUagFfsCXoBVZYA0MI8SE'})\n",
        "download.GetContentFile('pet_test.npy')\n",
        "download = drive.CreateFile({'id': '1kl4gR6GYwjFL50EdRtmCQYK9tigUOu8L'})\n",
        "download.GetContentFile('y_patches_test.npy')"
      ],
      "execution_count": 0,
      "outputs": []
    },
    {
      "metadata": {
        "id": "2x7ksUcsBWSX",
        "colab_type": "code",
        "colab": {
          "base_uri": "https://localhost:8080/",
          "height": 374
        },
        "outputId": "83ae0517-cebe-4162-8e72-b9c888785457"
      },
      "cell_type": "code",
      "source": [
        "!pip install keras-vis"
      ],
      "execution_count": 5,
      "outputs": [
        {
          "output_type": "stream",
          "text": [
            "Collecting keras-vis\n",
            "  Downloading https://files.pythonhosted.org/packages/70/b6/585f1c100b3ee5b8a12cf603c21a9a1f11010eaf634b4d5d73346e7b0c14/keras_vis-0.4.1-py2.py3-none-any.whl\n",
            "Requirement already satisfied: matplotlib in /usr/local/lib/python3.6/dist-packages (from keras-vis) (2.1.2)\n",
            "Requirement already satisfied: six in /usr/local/lib/python3.6/dist-packages (from keras-vis) (1.11.0)\n",
            "Requirement already satisfied: scikit-image in /usr/local/lib/python3.6/dist-packages (from keras-vis) (0.13.1)\n",
            "Requirement already satisfied: h5py in /usr/local/lib/python3.6/dist-packages (from keras-vis) (2.8.0)\n",
            "Requirement already satisfied: keras in /usr/local/lib/python3.6/dist-packages (from keras-vis) (2.1.6)\n",
            "Requirement already satisfied: pyparsing!=2.0.4,!=2.1.2,!=2.1.6,>=2.0.1 in /usr/local/lib/python3.6/dist-packages (from matplotlib->keras-vis) (2.2.0)\n",
            "Requirement already satisfied: cycler>=0.10 in /usr/local/lib/python3.6/dist-packages (from matplotlib->keras-vis) (0.10.0)\n",
            "Requirement already satisfied: pytz in /usr/local/lib/python3.6/dist-packages (from matplotlib->keras-vis) (2018.5)\n",
            "Requirement already satisfied: numpy>=1.7.1 in /usr/local/lib/python3.6/dist-packages (from matplotlib->keras-vis) (1.14.5)\n",
            "Requirement already satisfied: python-dateutil>=2.1 in /usr/local/lib/python3.6/dist-packages (from matplotlib->keras-vis) (2.5.3)\n",
            "Requirement already satisfied: scipy>=0.17.0 in /usr/local/lib/python3.6/dist-packages (from scikit-image->keras-vis) (0.19.1)\n",
            "Requirement already satisfied: pillow>=2.1.0 in /usr/local/lib/python3.6/dist-packages (from scikit-image->keras-vis) (4.0.0)\n",
            "Requirement already satisfied: PyWavelets>=0.4.0 in /usr/local/lib/python3.6/dist-packages (from scikit-image->keras-vis) (0.5.2)\n",
            "Requirement already satisfied: networkx>=1.8 in /usr/local/lib/python3.6/dist-packages (from scikit-image->keras-vis) (2.1)\n",
            "Requirement already satisfied: pyyaml in /usr/local/lib/python3.6/dist-packages (from keras->keras-vis) (3.13)\n",
            "Requirement already satisfied: olefile in /usr/local/lib/python3.6/dist-packages (from pillow>=2.1.0->scikit-image->keras-vis) (0.45.1)\n",
            "Requirement already satisfied: decorator>=4.1.0 in /usr/local/lib/python3.6/dist-packages (from networkx>=1.8->scikit-image->keras-vis) (4.3.0)\n",
            "Installing collected packages: keras-vis\n",
            "Successfully installed keras-vis-0.4.1\n"
          ],
          "name": "stdout"
        }
      ]
    },
    {
      "metadata": {
        "id": "gCsnpZDcHunA",
        "colab_type": "text"
      },
      "cell_type": "markdown",
      "source": [
        "------------------------------------------------------------------------------------------------------------------------------------------------------------------------------------------------------------------------------------------"
      ]
    },
    {
      "metadata": {
        "id": "mbxxW2PFBRXX",
        "colab_type": "code",
        "colab": {}
      },
      "cell_type": "code",
      "source": [
        "%matplotlib inline\n",
        "import numpy as np\n",
        "import matplotlib.pyplot as plt\n",
        "\n",
        "#ct data\n",
        "# ct_train = np.load('ct_train.npy')\n",
        "# y_patches_train = np.load('y_patches_train.npy')\n",
        "# ct_test = np.load('ct_test.npy')\n",
        "# y_patches_test = np.load('y_patches_test.npy')\n",
        "# ct_train_pos = np.load('ct_train_pos.npy')\n",
        "# y_train_pos = np.load('y_train_pos.npy')\n",
        "\n",
        "#pet data\n",
        "pet_train = np.load('pet_train.npy')\n",
        "y_patches_train = np.load('y_patches_train.npy')\n",
        "pet_test = np.load('pet_test.npy')\n",
        "y_patches_test = np.load('y_patches_test.npy')"
      ],
      "execution_count": 0,
      "outputs": []
    },
    {
      "metadata": {
        "id": "jweueb27FF3B",
        "colab_type": "code",
        "colab": {
          "base_uri": "https://localhost:8080/",
          "height": 68
        },
        "outputId": "fa06a29b-1f1d-4fc8-e201-f3bceab45481"
      },
      "cell_type": "code",
      "source": [
        "def metadata(arrays):\n",
        "  for i in arrays:\n",
        "    print(i.shape, np.amax(i), np.amin(i), np.mean(i), np.std(i))\n",
        "    \n",
        "metadata([pet_train, pet_test, y_patches_train])"
      ],
      "execution_count": 7,
      "outputs": [
        {
          "output_type": "stream",
          "text": [
            "(41338, 56, 56, 1) 23.6185 -0.60305774 0.30131912 1.2549722\n",
            "(4212, 56, 56, 1) 19.909306 -0.67381537 0.32361102 1.2939103\n",
            "(41338, 28, 28, 1) 1 0 0.12890922371174024 0.33509944158977156\n"
          ],
          "name": "stdout"
        }
      ]
    },
    {
      "metadata": {
        "id": "5_7kgePRH6Dw",
        "colab_type": "code",
        "colab": {
          "base_uri": "https://localhost:8080/",
          "height": 34
        },
        "outputId": "21b52d3d-defe-4b95-dc57-d7fd730a5194"
      },
      "cell_type": "code",
      "source": [
        "import six\n",
        "from keras.models import Model\n",
        "from keras.layers import (\n",
        "    Input,\n",
        "    Activation,\n",
        "    Dense,\n",
        "    Flatten,\n",
        "    concatenate\n",
        ")\n",
        "from keras.layers.convolutional import (\n",
        "    Conv2D, Conv2DTranspose,\n",
        "    MaxPooling2D,\n",
        "    AveragePooling2D\n",
        ")\n",
        "from keras.layers.merge import add\n",
        "from keras.layers.normalization import BatchNormalization\n",
        "from keras.regularizers import l2\n",
        "from keras import backend as K\n"
      ],
      "execution_count": 8,
      "outputs": [
        {
          "output_type": "stream",
          "text": [
            "Using TensorFlow backend.\n"
          ],
          "name": "stderr"
        }
      ]
    },
    {
      "metadata": {
        "id": "x0YHZSPsHXzt",
        "colab_type": "code",
        "colab": {}
      },
      "cell_type": "code",
      "source": [
        "def UNET_2D(x_train, activation = 'relu', padding = 'same'): \n",
        "    '''\n",
        "    2d UNet implementation\n",
        "    '''\n",
        "    inputs = Input(x_train.shape[1:])\n",
        "    conv1 = Conv2D(32, (3, 3), activation= activation, padding= padding)(inputs)\n",
        "    conv1 = BatchNormalization()(conv1)\n",
        "    conv1 = Conv2D(32, (3, 3), activation= activation, padding= padding)(conv1)\n",
        "    conv1 = BatchNormalization()(conv1)\n",
        "    pool1 = MaxPooling2D(pool_size=(2, 2))(conv1)\n",
        "\n",
        "    conv2 = Conv2D(64, (3, 3), activation= activation, padding= padding)(pool1)\n",
        "    conv2 = BatchNormalization()(conv2)\n",
        "    conv2 = Conv2D(64, (3, 3), activation= activation, padding= padding)(conv2)\n",
        "    conv2 = BatchNormalization()(conv2)\n",
        "    pool2 = MaxPooling2D(pool_size=(2, 2))(conv2)\n",
        "\n",
        "    conv3 = Conv2D(128, (3, 3), activation= activation, padding= padding)(pool2)\n",
        "    conv3 = BatchNormalization()(conv3)\n",
        "    conv3 = Conv2D(128, (3, 3), activation= activation, padding= padding)(conv3)\n",
        "    conv3 = BatchNormalization()(conv3)\n",
        "    pool3 = MaxPooling2D(pool_size=(2, 2))(conv3)\n",
        "\n",
        "    conv4 = Conv2D(256, (3, 3), activation= activation, padding= padding)(pool3)\n",
        "    conv4 = BatchNormalization()(conv4)\n",
        "    conv4 = Conv2D(256, (3, 3), activation= activation, padding= padding)(conv4)\n",
        "    conv4 = BatchNormalization()(conv4)\n",
        "\n",
        "    conv6 = Conv2D(256, (3, 3), activation= activation, padding= padding)(conv4)\n",
        "    conv6 = BatchNormalization()(conv6)\n",
        "    conv6 = Conv2D(256, (3, 3), activation= activation, padding= padding)(conv6)\n",
        "    conv6 = BatchNormalization()(conv6)\n",
        "\n",
        "    up7 = concatenate([Conv2DTranspose(128, (2, 2), strides=(2, 2), padding= padding)(conv6), conv3], axis=3)\n",
        "    conv7 = Conv2D(128, (3, 3), activation= activation, padding= padding)(up7)\n",
        "    conv7 = BatchNormalization()(conv7)\n",
        "    conv7 = Conv2D(128, (3, 3), activation= activation, padding= padding)(conv7)\n",
        "    conv7 = BatchNormalization()(conv7)\n",
        "\n",
        "    up8 = concatenate([Conv2DTranspose(64, (2, 2), strides=(2, 2), padding= padding)(conv7), conv2], axis=3)\n",
        "    conv8 = Conv2D(64, (3, 3), activation= activation, padding= padding)(up8)\n",
        "    conv8 = BatchNormalization()(conv8)\n",
        "    conv8 = Conv2D(64, (3, 3), activation= activation, padding= padding)(conv8)\n",
        "    conv8 = BatchNormalization()(conv8)\n",
        "    \n",
        "    up9 = concatenate([Conv2DTranspose(32, (2,2), strides = (2,2), padding = padding)(conv8), conv1], axis=3)\n",
        "    conv9 = Conv2D(32, (3, 3), activation= activation, padding= padding)(up9)\n",
        "    conv9 = BatchNormalization()(conv9)\n",
        "    conv9 = Conv2D(32, (3, 3), activation= activation, padding= padding)(conv9)\n",
        "    conv9 = BatchNormalization()(conv9)\n",
        "\n",
        "    conv9 = Conv2D(32, (1, 1), activation= activation)(conv9)\n",
        "#     conv9 = Conv2D(32, (1,1), strides = 2, activation = activation)(conv9)\n",
        "    conv9 = MaxPooling2D(pool_size = (2,2))(conv9)\n",
        "    conv10 = Conv2D(1, (1,1), activation = 'sigmoid')(conv9)\n",
        "    \n",
        "    model = Model(inputs=[inputs], outputs=[conv10])\n",
        "\n",
        "    return model"
      ],
      "execution_count": 0,
      "outputs": []
    },
    {
      "metadata": {
        "id": "2xSVzOedA5lO",
        "colab_type": "code",
        "colab": {
          "base_uri": "https://localhost:8080/",
          "height": 1717
        },
        "outputId": "c35c742c-4379-473d-e60f-c694b06d62ca"
      },
      "cell_type": "code",
      "source": [
        "#UNET\n",
        "model = UNET_2D(pet_train)\n",
        "model.summary()"
      ],
      "execution_count": 10,
      "outputs": [
        {
          "output_type": "stream",
          "text": [
            "__________________________________________________________________________________________________\n",
            "Layer (type)                    Output Shape         Param #     Connected to                     \n",
            "==================================================================================================\n",
            "input_1 (InputLayer)            (None, 56, 56, 1)    0                                            \n",
            "__________________________________________________________________________________________________\n",
            "conv2d_1 (Conv2D)               (None, 56, 56, 32)   320         input_1[0][0]                    \n",
            "__________________________________________________________________________________________________\n",
            "batch_normalization_1 (BatchNor (None, 56, 56, 32)   128         conv2d_1[0][0]                   \n",
            "__________________________________________________________________________________________________\n",
            "conv2d_2 (Conv2D)               (None, 56, 56, 32)   9248        batch_normalization_1[0][0]      \n",
            "__________________________________________________________________________________________________\n",
            "batch_normalization_2 (BatchNor (None, 56, 56, 32)   128         conv2d_2[0][0]                   \n",
            "__________________________________________________________________________________________________\n",
            "max_pooling2d_1 (MaxPooling2D)  (None, 28, 28, 32)   0           batch_normalization_2[0][0]      \n",
            "__________________________________________________________________________________________________\n",
            "conv2d_3 (Conv2D)               (None, 28, 28, 64)   18496       max_pooling2d_1[0][0]            \n",
            "__________________________________________________________________________________________________\n",
            "batch_normalization_3 (BatchNor (None, 28, 28, 64)   256         conv2d_3[0][0]                   \n",
            "__________________________________________________________________________________________________\n",
            "conv2d_4 (Conv2D)               (None, 28, 28, 64)   36928       batch_normalization_3[0][0]      \n",
            "__________________________________________________________________________________________________\n",
            "batch_normalization_4 (BatchNor (None, 28, 28, 64)   256         conv2d_4[0][0]                   \n",
            "__________________________________________________________________________________________________\n",
            "max_pooling2d_2 (MaxPooling2D)  (None, 14, 14, 64)   0           batch_normalization_4[0][0]      \n",
            "__________________________________________________________________________________________________\n",
            "conv2d_5 (Conv2D)               (None, 14, 14, 128)  73856       max_pooling2d_2[0][0]            \n",
            "__________________________________________________________________________________________________\n",
            "batch_normalization_5 (BatchNor (None, 14, 14, 128)  512         conv2d_5[0][0]                   \n",
            "__________________________________________________________________________________________________\n",
            "conv2d_6 (Conv2D)               (None, 14, 14, 128)  147584      batch_normalization_5[0][0]      \n",
            "__________________________________________________________________________________________________\n",
            "batch_normalization_6 (BatchNor (None, 14, 14, 128)  512         conv2d_6[0][0]                   \n",
            "__________________________________________________________________________________________________\n",
            "max_pooling2d_3 (MaxPooling2D)  (None, 7, 7, 128)    0           batch_normalization_6[0][0]      \n",
            "__________________________________________________________________________________________________\n",
            "conv2d_7 (Conv2D)               (None, 7, 7, 256)    295168      max_pooling2d_3[0][0]            \n",
            "__________________________________________________________________________________________________\n",
            "batch_normalization_7 (BatchNor (None, 7, 7, 256)    1024        conv2d_7[0][0]                   \n",
            "__________________________________________________________________________________________________\n",
            "conv2d_8 (Conv2D)               (None, 7, 7, 256)    590080      batch_normalization_7[0][0]      \n",
            "__________________________________________________________________________________________________\n",
            "batch_normalization_8 (BatchNor (None, 7, 7, 256)    1024        conv2d_8[0][0]                   \n",
            "__________________________________________________________________________________________________\n",
            "conv2d_9 (Conv2D)               (None, 7, 7, 256)    590080      batch_normalization_8[0][0]      \n",
            "__________________________________________________________________________________________________\n",
            "batch_normalization_9 (BatchNor (None, 7, 7, 256)    1024        conv2d_9[0][0]                   \n",
            "__________________________________________________________________________________________________\n",
            "conv2d_10 (Conv2D)              (None, 7, 7, 256)    590080      batch_normalization_9[0][0]      \n",
            "__________________________________________________________________________________________________\n",
            "batch_normalization_10 (BatchNo (None, 7, 7, 256)    1024        conv2d_10[0][0]                  \n",
            "__________________________________________________________________________________________________\n",
            "conv2d_transpose_1 (Conv2DTrans (None, 14, 14, 128)  131200      batch_normalization_10[0][0]     \n",
            "__________________________________________________________________________________________________\n",
            "concatenate_1 (Concatenate)     (None, 14, 14, 256)  0           conv2d_transpose_1[0][0]         \n",
            "                                                                 batch_normalization_6[0][0]      \n",
            "__________________________________________________________________________________________________\n",
            "conv2d_11 (Conv2D)              (None, 14, 14, 128)  295040      concatenate_1[0][0]              \n",
            "__________________________________________________________________________________________________\n",
            "batch_normalization_11 (BatchNo (None, 14, 14, 128)  512         conv2d_11[0][0]                  \n",
            "__________________________________________________________________________________________________\n",
            "conv2d_12 (Conv2D)              (None, 14, 14, 128)  147584      batch_normalization_11[0][0]     \n",
            "__________________________________________________________________________________________________\n",
            "batch_normalization_12 (BatchNo (None, 14, 14, 128)  512         conv2d_12[0][0]                  \n",
            "__________________________________________________________________________________________________\n",
            "conv2d_transpose_2 (Conv2DTrans (None, 28, 28, 64)   32832       batch_normalization_12[0][0]     \n",
            "__________________________________________________________________________________________________\n",
            "concatenate_2 (Concatenate)     (None, 28, 28, 128)  0           conv2d_transpose_2[0][0]         \n",
            "                                                                 batch_normalization_4[0][0]      \n",
            "__________________________________________________________________________________________________\n",
            "conv2d_13 (Conv2D)              (None, 28, 28, 64)   73792       concatenate_2[0][0]              \n",
            "__________________________________________________________________________________________________\n",
            "batch_normalization_13 (BatchNo (None, 28, 28, 64)   256         conv2d_13[0][0]                  \n",
            "__________________________________________________________________________________________________\n",
            "conv2d_14 (Conv2D)              (None, 28, 28, 64)   36928       batch_normalization_13[0][0]     \n",
            "__________________________________________________________________________________________________\n",
            "batch_normalization_14 (BatchNo (None, 28, 28, 64)   256         conv2d_14[0][0]                  \n",
            "__________________________________________________________________________________________________\n",
            "conv2d_transpose_3 (Conv2DTrans (None, 56, 56, 32)   8224        batch_normalization_14[0][0]     \n",
            "__________________________________________________________________________________________________\n",
            "concatenate_3 (Concatenate)     (None, 56, 56, 64)   0           conv2d_transpose_3[0][0]         \n",
            "                                                                 batch_normalization_2[0][0]      \n",
            "__________________________________________________________________________________________________\n",
            "conv2d_15 (Conv2D)              (None, 56, 56, 32)   18464       concatenate_3[0][0]              \n",
            "__________________________________________________________________________________________________\n",
            "batch_normalization_15 (BatchNo (None, 56, 56, 32)   128         conv2d_15[0][0]                  \n",
            "__________________________________________________________________________________________________\n",
            "conv2d_16 (Conv2D)              (None, 56, 56, 32)   9248        batch_normalization_15[0][0]     \n",
            "__________________________________________________________________________________________________\n",
            "batch_normalization_16 (BatchNo (None, 56, 56, 32)   128         conv2d_16[0][0]                  \n",
            "__________________________________________________________________________________________________\n",
            "conv2d_17 (Conv2D)              (None, 56, 56, 32)   1056        batch_normalization_16[0][0]     \n",
            "__________________________________________________________________________________________________\n",
            "max_pooling2d_4 (MaxPooling2D)  (None, 28, 28, 32)   0           conv2d_17[0][0]                  \n",
            "__________________________________________________________________________________________________\n",
            "conv2d_18 (Conv2D)              (None, 28, 28, 1)    33          max_pooling2d_4[0][0]            \n",
            "==================================================================================================\n",
            "Total params: 3,113,921\n",
            "Trainable params: 3,110,081\n",
            "Non-trainable params: 3,840\n",
            "__________________________________________________________________________________________________\n"
          ],
          "name": "stdout"
        }
      ]
    },
    {
      "metadata": {
        "id": "mkswFJHvHTPv",
        "colab_type": "code",
        "colab": {}
      },
      "cell_type": "code",
      "source": [
        "#hyperparameters\n",
        "hm_epochs = 1\n",
        "batch_size = 15\n",
        "\n",
        "# #loss/evaluation\n",
        "def dice_coef(y_true, y_pred, smooth=1):\n",
        "    y_true_f = K.flatten(y_true)\n",
        "    y_pred_f = K.flatten(y_pred)\n",
        "    intersection = K.sum(y_true_f * y_pred_f)\n",
        "    return (2. * intersection + smooth) / (K.sum(y_true_f) + K.sum(y_pred_f) + smooth)\n",
        "\n",
        "def dice_coef_loss(y_true, y_pred):\n",
        "    return -dice_coef(y_true, y_pred)\n",
        "\n",
        "\n",
        "#compiling model\n",
        "import keras\n",
        "callback = keras.callbacks.EarlyStopping(monitor='val_loss', min_delta=0.0001, patience=1, verbose=1, mode='auto')\n",
        "adam = keras.optimizers.Adam(lr=2e-6, beta_1=0.9, beta_2=0.999, epsilon=None, decay=1e-3, amsgrad=False)\n",
        "model.compile(optimizer = adam, loss = dice_coef_loss, metrics = [dice_coef])\n",
        "# model.compile(optimizer = adam, loss = 'binary_crossentropy', metrics = ['binary_accuracy'])"
      ],
      "execution_count": 0,
      "outputs": []
    },
    {
      "metadata": {
        "id": "30_PCvA2IGGQ",
        "colab_type": "code",
        "colab": {
          "base_uri": "https://localhost:8080/",
          "height": 105
        },
        "outputId": "fdb3483a-be31-485e-887b-9677330e4772"
      },
      "cell_type": "code",
      "source": [
        "#regular training \n",
        "history = model.fit(pet_train, y_patches_train, batch_size = batch_size, epochs = hm_epochs, callbacks = [callback], validation_data= (pet_test, y_patches_test), shuffle = True)"
      ],
      "execution_count": 12,
      "outputs": [
        {
          "output_type": "stream",
          "text": [
            "WARNING:tensorflow:Variable *= will be deprecated. Use variable.assign_mul if you want assignment to the variable value or 'x = x * y' if you want a new python Tensor object.\n",
            "Train on 41338 samples, validate on 4212 samples\n",
            "Epoch 1/1\n",
            " 4575/41338 [==>...........................] - ETA: 5:35 - loss: -0.2878 - dice_coef: 0.2878"
          ],
          "name": "stdout"
        },
        {
          "output_type": "stream",
          "text": [
            "41325/41338 [============================>.] - ETA: 0s - loss: -0.3931 - dice_coef: 0.3931"
          ],
          "name": "stdout"
        },
        {
          "output_type": "stream",
          "text": [
            "\b\b\b\b\b\b\b\b\b\b\b\b\b\b\b\b\b\b\b\b\b\b\b\b\b\b\b\b\b\b\b\b\b\b\b\b\b\b\b\b\b\b\b\b\b\b\b\b\b\b\b\b\b\b\b\b\b\b\b\b\b\b\b\b\b\b\b\b\b\b\b\b\b\b\b\b\b\b\b\b\b\b\b\b\b\b\b\b\b\b\r41338/41338 [==============================] - 352s 9ms/step - loss: -0.3930 - dice_coef: 0.3930 - val_loss: -0.2084 - val_dice_coef: 0.2084\n"
          ],
          "name": "stdout"
        }
      ]
    },
    {
      "metadata": {
        "id": "o1DgEZT7hXJv",
        "colab_type": "code",
        "colab": {
          "base_uri": "https://localhost:8080/",
          "height": 294
        },
        "outputId": "e9fd4d67-0c1d-49c1-cb0c-3e7b1607a7db"
      },
      "cell_type": "code",
      "source": [
        "# summarize history for loss\n",
        "plt.plot(history.history['loss'])\n",
        "plt.plot(history.history['val_loss'])\n",
        "plt.title('model loss')\n",
        "plt.ylabel('loss')\n",
        "plt.xlabel('epoch')\n",
        "plt.legend(['train', 'test'], loc='upper left')\n",
        "plt.show()"
      ],
      "execution_count": 16,
      "outputs": [
        {
          "output_type": "display_data",
          "data": {
            "image/png": "[encoded data removed]",
            "text/plain": [
              "<matplotlib.figure.Figure at 0x7f0f648d9630>"
            ]
          },
          "metadata": {
            "tags": []
          }
        }
      ]
    },
    {
      "metadata": {
        "id": "AJtFG9F2-Hgz",
        "colab_type": "code",
        "colab": {
          "base_uri": "https://localhost:8080/",
          "height": 51
        },
        "outputId": "ff744977-c191-4f02-9341-b784168e421a"
      },
      "cell_type": "code",
      "source": [
        "model.evaluate(pet_test, y_patches_test)"
      ],
      "execution_count": 13,
      "outputs": [
        {
          "output_type": "stream",
          "text": [
            "4212/4212 [==============================] - 6s 1ms/step\n"
          ],
          "name": "stdout"
        },
        {
          "output_type": "execute_result",
          "data": {
            "text/plain": [
              "[-0.2092257105273965, 0.2092257105273965]"
            ]
          },
          "metadata": {
            "tags": []
          },
          "execution_count": 13
        }
      ]
    },
    {
      "metadata": {
        "id": "b8e2ffFcsF-Y",
        "colab_type": "code",
        "colab": {}
      },
      "cell_type": "code",
      "source": [
        "# model.save('idkpet051dice.h5')\n",
        "# from google.colab import files\n",
        "# files.download('idkpet051dice.h5')"
      ],
      "execution_count": 0,
      "outputs": []
    },
    {
      "metadata": {
        "id": "2MCks-kMJABS",
        "colab_type": "code",
        "colab": {
          "base_uri": "https://localhost:8080/",
          "height": 286
        },
        "outputId": "1b94c02b-5e17-4665-dd56-2cc9b4b35d6d"
      },
      "cell_type": "code",
      "source": [
        "predict = model.predict(pet_test)\n",
        "fig, (ax1, ax2, ax3) = plt.subplots(3,1)\n",
        "predict[predict<0.5] = 0\n",
        "predict[predict>0.5] = 1\n",
        "ax1.imshow(pet_test[0].squeeze())\n",
        "ax2.imshow(y_patches_test[0].squeeze(), cmap = 'bone')\n",
        "ax3.imshow(predict[0].squeeze(), cmap = 'bone')"
      ],
      "execution_count": 14,
      "outputs": [
        {
          "output_type": "execute_result",
          "data": {
            "text/plain": [
              "<matplotlib.image.AxesImage at 0x7eff735e8ba8>"
            ]
          },
          "metadata": {
            "tags": []
          },
          "execution_count": 14
        },
        {
          "output_type": "display_data",
          "data": {
            "image/png": "[encoded data removed]",
            "text/plain": [
              "<matplotlib.figure.Figure at 0x7effbe56ff98>"
            ]
          },
          "metadata": {
            "tags": []
          }
        }
      ]
    },
    {
      "metadata": {
        "id": "VdNoqfpHUES9",
        "colab_type": "code",
        "colab": {
          "base_uri": "https://localhost:8080/",
          "height": 34
        },
        "outputId": "2fa3ff07-f6e5-4642-f16e-0c3126e83c0d"
      },
      "cell_type": "code",
      "source": [
        "from sklearn.metrics import precision_recall_fscore_support\n",
        "precision_recall_fscore_support(y_patches_test.flatten(), predict.flatten(), average = 'binary')"
      ],
      "execution_count": 38,
      "outputs": [
        {
          "output_type": "execute_result",
          "data": {
            "text/plain": [
              "(0.6381078029091803, 0.33409041684471785, 0.4385642712239503, None)"
            ]
          },
          "metadata": {
            "tags": []
          },
          "execution_count": 38
        }
      ]
    },
    {
      "metadata": {
        "id": "IFtTOW4dUgj1",
        "colab_type": "code",
        "colab": {
          "base_uri": "https://localhost:8080/",
          "height": 894
        },
        "outputId": "9d84f7d2-3ef0-4da9-c100-21708a68cd94"
      },
      "cell_type": "code",
      "source": [
        "from vis.visualization import visualize_cam\n",
        "\n",
        "for i, modifier in enumerate(modifiers):\n",
        "    heatmap = visualize_cam(model, layer_idx=-1, filter_indices=0, \n",
        "                            seed_input=img, grad_modifier=modifier)\n",
        "    plt.figure()\n",
        "    plt.title(titles[i])\n",
        "    plt.imshow(heatmap)\n",
        "    # Overlay is used to alpha blend heatmap onto img.\n",
        "#     plt.imshow(overlay(img, heatmap, alpha=0.7))"
      ],
      "execution_count": 37,
      "outputs": [
        {
          "output_type": "stream",
          "text": [
            "/usr/local/lib/python3.6/dist-packages/scipy/misc/pilutil.py:482: FutureWarning: Conversion of the second argument of issubdtype from `int` to `np.signedinteger` is deprecated. In future, it will be treated as `np.int64 == np.dtype(int).type`.\n",
            "  if issubdtype(ts, int):\n",
            "/usr/local/lib/python3.6/dist-packages/scipy/misc/pilutil.py:485: FutureWarning: Conversion of the second argument of issubdtype from `float` to `np.floating` is deprecated. In future, it will be treated as `np.float64 == np.dtype(float).type`.\n",
            "  elif issubdtype(type(size), float):\n"
          ],
          "name": "stderr"
        },
        {
          "output_type": "display_data",
          "data": {
            "image/png": "[encoded data removed]",
            "text/plain": [
              "<matplotlib.figure.Figure at 0x7efd9516e4a8>"
            ]
          },
          "metadata": {
            "tags": []
          }
        },
        {
          "output_type": "display_data",
          "data": {
            "image/png": "[encoded data removed]",
            "text/plain": [
              "<matplotlib.figure.Figure at 0x7efbc4cdd1d0>"
            ]
          },
          "metadata": {
            "tags": []
          }
        },
        {
          "output_type": "display_data",
          "data": {
            "image/png": "[encoded data removed]",
            "text/plain": [
              "<matplotlib.figure.Figure at 0x7efbc4bdeb70>"
            ]
          },
          "metadata": {
            "tags": []
          }
        }
      ]
    },
    {
      "metadata": {
        "id": "HwhXuv1eN8EP",
        "colab_type": "code",
        "colab": {
          "base_uri": "https://localhost:8080/",
          "height": 806
        },
        "outputId": "61c9a422-b0dd-4cb3-de50-548b57b1480d"
      },
      "cell_type": "code",
      "source": [
        "from vis.utils import utils\n",
        "from vis.visualization import visualize_saliency, overlay\n",
        "from keras.preprocessing.image import img_to_array\n",
        "import tensorflow as tf\n",
        "\n",
        "img = ct_test[0]#E.squeeze()\n",
        "rgb_img = tf.image.grayscale_to_rgb(img)\n",
        "\n",
        "titles = ['idk', 'idk', 'idk']\n",
        "modifiers = [None, 'relu', 'absolute']\n",
        "\n",
        "for i, modifier in enumerate(modifiers):\n",
        "    heatmap = visualize_saliency(model, layer_idx=-1, filter_indices=0, \n",
        "                                 seed_input=ct_test[0], grad_modifier=modifier)\n",
        "\n",
        "    plt.figure()\n",
        "    plt.title(titles[i])\n",
        "    plt.imshow(heatmap)\n",
        "#     sess = tf.Session()\n",
        "#     with sess.as_default():\n",
        "#       new_img = rgb_img.eval()\n",
        "    #Overlay is used to alpha blend heatmap onto img.\n",
        "#     plt.imshow(overlay(new_img, heatmap.squeeze(), alpha=0.7))"
      ],
      "execution_count": 29,
      "outputs": [
        {
          "output_type": "display_data",
          "data": {
            "image/png": "[encoded data removed]",
            "text/plain": [
              "<matplotlib.figure.Figure at 0x7efdc1aa27f0>"
            ]
          },
          "metadata": {
            "tags": []
          }
        },
        {
          "output_type": "display_data",
          "data": {
            "image/png": "[encoded data removed]",
            "text/plain": [
              "<matplotlib.figure.Figure at 0x7efd95a287f0>"
            ]
          },
          "metadata": {
            "tags": []
          }
        },
        {
          "output_type": "display_data",
          "data": {
            "image/png": "[encoded data removed]",
            "text/plain": [
              "<matplotlib.figure.Figure at 0x7efdb8537f60>"
            ]
          },
          "metadata": {
            "tags": []
          }
        }
      ]
    }
  ]
}